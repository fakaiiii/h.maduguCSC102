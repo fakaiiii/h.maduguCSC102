{
 "cells": [
  {
   "cell_type": "code",
   "execution_count": 2,
   "id": "0be4fe77",
   "metadata": {},
   "outputs": [
    {
     "name": "stdout",
     "output_type": "stream",
     "text": [
      "p: 500\n",
      "r: 20\n",
      "t: 3\n",
      "800.0\n"
     ]
    }
   ],
   "source": [
    "# Simple interest\n",
    "p = int(input(\"p: \"))\n",
    "r = int(input(\"r: \"))\n",
    "t = int(input(\"t: \"))\n",
    "a = p * (1 + (r/100)*t)\n",
    "\n",
    "print(a)"
   ]
  },
  {
   "cell_type": "code",
   "execution_count": 5,
   "id": "55d82f28",
   "metadata": {},
   "outputs": [
    {
     "name": "stdout",
     "output_type": "stream",
     "text": [
      "p: 500\n",
      "r: 20\n",
      "n: 2\n",
      "t: 3\n",
      "885.7805000000004\n"
     ]
    }
   ],
   "source": [
    "# Compound interest\n",
    "p = int(input(\"p: \"))\n",
    "r = int(input(\"r: \"))\n",
    "n = int(input(\"n: \"))\n",
    "t = int(input(\"t: \"))\n",
    "a = p * ((1 + (r/100)/n) ** (n * t))\n",
    "\n",
    "print(a)"
   ]
  },
  {
   "cell_type": "code",
   "execution_count": 6,
   "id": "c92fd3e0",
   "metadata": {},
   "outputs": [
    {
     "name": "stdout",
     "output_type": "stream",
     "text": [
      "pmt: 500\n",
      "r: 20\n",
      "n: 2\n",
      "t: 3\n",
      "964.451250000001\n"
     ]
    }
   ],
   "source": [
    "# Annuity  plan\n",
    "pmt = int(input(\"pmt: \"))\n",
    "r = int(input(\"r: \"))\n",
    "n = int(input(\"n: \"))\n",
    "t = int(input(\"t: \"))\n",
    "a = pmt * (((1 + (r/100)/n) ** (n * t)) - 1)/((r/100))/n\n",
    "\n",
    "print(a)"
   ]
  },
  {
   "cell_type": "code",
   "execution_count": null,
   "id": "a3bd0c58",
   "metadata": {},
   "outputs": [],
   "source": []
  }
 ],
 "metadata": {
  "kernelspec": {
   "display_name": "Python 3 (ipykernel)",
   "language": "python",
   "name": "python3"
  },
  "language_info": {
   "codemirror_mode": {
    "name": "ipython",
    "version": 3
   },
   "file_extension": ".py",
   "mimetype": "text/x-python",
   "name": "python",
   "nbconvert_exporter": "python",
   "pygments_lexer": "ipython3",
   "version": "3.10.9"
  }
 },
 "nbformat": 4,
 "nbformat_minor": 5
}
