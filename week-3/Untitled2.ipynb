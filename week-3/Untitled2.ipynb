{
 "cells": [
  {
   "cell_type": "code",
   "execution_count": null,
   "id": "2bdf6a0f",
   "metadata": {},
   "outputs": [],
   "source": [
    "list = [ 'Anaconda', 786, 2.23, 'Jupyter', 70.2 ]\n",
    "shortlist = [321, 'Python']\n",
    "\n",
    "print(list)             ''' Prints coomplete list '''\n",
    "print(list[0])          # Prints first element of the list\n",
    "print(list[1:3])        # Prints elements starting from 2nd till 3rd\n",
    "print(list[2:])         ''' Prints elements starting from 3rd element'''\n",
    "print(shortlist * 2)    # Prints list two times \n",
    "print(list + shortlist) # Prints concatenated list"
   ]
  }
 ],
 "metadata": {
  "kernelspec": {
   "display_name": "Python 3 (ipykernel)",
   "language": "python",
   "name": "python3"
  },
  "language_info": {
   "codemirror_mode": {
    "name": "ipython",
    "version": 3
   },
   "file_extension": ".py",
   "mimetype": "text/x-python",
   "name": "python",
   "nbconvert_exporter": "python",
   "pygments_lexer": "ipython3",
   "version": "3.10.9"
  }
 },
 "nbformat": 4,
 "nbformat_minor": 5
}
