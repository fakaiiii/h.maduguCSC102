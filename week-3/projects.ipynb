{
 "cells": [
  {
   "cell_type": "code",
   "execution_count": 13,
   "id": "22c78c24",
   "metadata": {
    "scrolled": true
   },
   "outputs": [
    {
     "name": "stdout",
     "output_type": "stream",
     "text": [
      "a:3\n",
      "b:4\n",
      "c:5\n",
      "(-0.047085856852483454+1.2507287871944242j)\n",
      "(-1.122166257414544+0.27656713435392j)\n",
      "(-1.8307478857329729-1.5272959215483441j)\n"
     ]
    }
   ],
   "source": [
    "# x^3 + ax^2 + bx +c\n",
    "a = int(input(\"a:\"))\n",
    "b = int(input(\"b:\"))\n",
    "c = int(input(\"c:\"))\n",
    "i = -1**(1/2)\n",
    "\n",
    "q = ((3*b)-(a**2))/9\n",
    "r = ((9*a*b)-(27*c)-(2*(a**3)))/54\n",
    "s = (r+((q**3)+(r**2))**(1/2))**(1/3)\n",
    "t = (r-((q**3)+(r**2))**(1/2))**(1/3)\n",
    "\n",
    "x1 = s + t - (a/3)\n",
    "x2 = ((-1/2)*(s+t))-((1/3)*a)+(((i/2)*(3**(1/3))*(s-t)))\n",
    "x3 = ((-1/2)*(s+t))-((1/3)*a)-(((i/2)*(3**(1/3))*(s-t)))\n",
    "print(x1)\n",
    "print(x2)\n",
    "print(x3)"
   ]
  },
  {
   "cell_type": "code",
   "execution_count": 18,
   "id": "bd3649b7",
   "metadata": {},
   "outputs": [
    {
     "name": "stdout",
     "output_type": "stream",
     "text": [
      "a:2\n",
      "b:3\n",
      "c:4\n",
      "d:5\n"
     ]
    },
    {
     "ename": "NameError",
     "evalue": "name 'y' is not defined",
     "output_type": "error",
     "traceback": [
      "\u001b[1;31m---------------------------------------------------------------------------\u001b[0m",
      "\u001b[1;31mNameError\u001b[0m                                 Traceback (most recent call last)",
      "Cell \u001b[1;32mIn[18], line 9\u001b[0m\n\u001b[0;32m      7\u001b[0m d \u001b[38;5;241m=\u001b[39m \u001b[38;5;28mint\u001b[39m(\u001b[38;5;28minput\u001b[39m(\u001b[38;5;124m\"\u001b[39m\u001b[38;5;124md:\u001b[39m\u001b[38;5;124m\"\u001b[39m))\n\u001b[0;32m      8\u001b[0m n \u001b[38;5;241m=\u001b[39m \u001b[38;5;241m4\u001b[39m\n\u001b[1;32m----> 9\u001b[0m x \u001b[38;5;241m=\u001b[39m \u001b[43my\u001b[49m \u001b[38;5;241m-\u001b[39m (b\u001b[38;5;241m/\u001b[39m(a\u001b[38;5;241m*\u001b[39mn))\n\u001b[0;32m     10\u001b[0m d\u001b[38;5;241m=\u001b[39m(x\u001b[38;5;241m*\u001b[39m\u001b[38;5;241m*\u001b[39m\u001b[38;5;241m4\u001b[39m)\u001b[38;5;241m+\u001b[39m(a\u001b[38;5;241m*\u001b[39m(x\u001b[38;5;241m*\u001b[39m\u001b[38;5;241m*\u001b[39m\u001b[38;5;241m3\u001b[39m))\u001b[38;5;241m+\u001b[39m(b\u001b[38;5;241m*\u001b[39m(x\u001b[38;5;241m*\u001b[39m\u001b[38;5;241m*\u001b[39m\u001b[38;5;241m2\u001b[39m))\u001b[38;5;241m+\u001b[39m(c\u001b[38;5;241m*\u001b[39mx)\n\u001b[0;32m     11\u001b[0m \u001b[38;5;28mprint\u001b[39m(d)\n",
      "\u001b[1;31mNameError\u001b[0m: name 'y' is not defined"
     ]
    }
   ],
   "source": [
    "# Program to find the rppts of a quartic formula\n",
    "\n",
    "\n",
    "a = int(input(\"a:\"))\n",
    "b = int(input(\"b:\"))\n",
    "c = int(input(\"c:\"))\n",
    "d = int(input(\"d:\"))\n",
    "n = 4\n",
    "x = y - (b/(a*n))\n",
    "d=(x**4)+(a*(x**3))+(b*(x**2))+(c*x)\n",
    "print(d)\n"
   ]
  },
  {
   "cell_type": "code",
   "execution_count": null,
   "id": "f0514043",
   "metadata": {},
   "outputs": [],
   "source": []
  }
 ],
 "metadata": {
  "kernelspec": {
   "display_name": "Python 3 (ipykernel)",
   "language": "python",
   "name": "python3"
  },
  "language_info": {
   "codemirror_mode": {
    "name": "ipython",
    "version": 3
   },
   "file_extension": ".py",
   "mimetype": "text/x-python",
   "name": "python",
   "nbconvert_exporter": "python",
   "pygments_lexer": "ipython3",
   "version": "3.10.9"
  }
 },
 "nbformat": 4,
 "nbformat_minor": 5
}
