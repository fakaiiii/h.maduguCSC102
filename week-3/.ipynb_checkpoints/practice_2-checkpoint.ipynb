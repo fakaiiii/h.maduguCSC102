{
 "cells": [
  {
   "cell_type": "code",
   "execution_count": null,
   "metadata": {},
   "outputs": [],
   "source": [
    "str = input(\"Enter your state of origin:\")\n",
    "\n",
    "print (\"Your state of origin is: \", str)\n",
    "print (\"The first character is: \", str[0])\n",
    "print (\"The character starting from 3rd to 5th are: \", str[2:5])\n",
    "print (\"The string starting from 3rd character is: \", str [2:])\n",
    "print (\"State of origin two times\", str * 2)\n"
   ]
  },
  {
   "cell_type": "code",
   "execution_count": null,
   "metadata": {},
   "outputs": [],
   "source": [
    "# Input from user \n",
    "m = float(input(\"Enter mass in kilograms: \"))\n",
    "\n",
    "# Constant value for speed of light in m/s \n",
    "c = 299792458\n",
    "\n",
    "# Calculating Energy using Einstein's equation\n",
    "energy = m * c ** 2\n",
    "\n",
    "# Displaying the result \n",
    "print(f\"The energy equivalent to {m} kg of mass is {energy} joules.\")\n",
    "\n"
   ]
  }
 ],
 "metadata": {
  "kernelspec": {
   "display_name": "Python 3",
   "language": "python",
   "name": "python3"
  },
  "language_info": {
   "codemirror_mode": {
    "name": "ipython",
    "version": 3
   },
   "file_extension": ".py",
   "mimetype": "text/x-python",
   "name": "python",
   "nbconvert_exporter": "python",
   "pygments_lexer": "ipython3",
   "version": "3.8.5"
  }
 },
 "nbformat": 4,
 "nbformat_minor": 4
}
