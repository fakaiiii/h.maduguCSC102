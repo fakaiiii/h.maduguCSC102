{
 "cells": [
  {
   "cell_type": "code",
   "execution_count": 1,
   "id": "c6431ac0",
   "metadata": {},
   "outputs": [
    {
     "name": "stdout",
     "output_type": "stream",
     "text": [
      "Enter the name of the club you support: FC Cirok\n",
      "Welcome to FC Cirok\n"
     ]
    }
   ],
   "source": [
    "from abc import ABC, abstractmethod\n",
    "\n",
    "# Abstract Base Class\n",
    "class Coup_de_Ecriva(ABC):\n",
    "    @abstractmethod\n",
    "    def Fan_Page(self):\n",
    "        pass\n",
    "\n",
    "# Subclass FC_Cirok\n",
    "class FC_Cirok(Coup_de_Ecriva):\n",
    "    def Fan_Page(self):\n",
    "        club_name = \"FC Cirok\"\n",
    "        print(\"Welcome to\", club_name)\n",
    "\n",
    "# Subclass Madiba_FC\n",
    "class Madiba_FC(Coup_de_Ecriva):\n",
    "    def Fan_Page(self):\n",
    "        club_name = \"Madiba FC\"\n",
    "        print(\"Welcome to\", club_name)\n",
    "\n",
    "# Subclass Blue_Jay_FC\n",
    "class Blue_Jay_FC(Coup_de_Ecriva):\n",
    "    def Fan_Page(self):\n",
    "        club_name = \"Blue Jay FC\"\n",
    "        print(\"Welcome to\", club_name)\n",
    "\n",
    "# Subclass TSG_Walker\n",
    "class TSG_Walker(Coup_de_Ecriva):\n",
    "    def Fan_Page(self):\n",
    "        club_name = \"TSG Walker\"\n",
    "        print(\"Welcome to\", club_name)\n",
    "\n",
    "# User input for the club they support\n",
    "user_club = input(\"Enter the name of the club you support: \")\n",
    "\n",
    "# Instantiate the appropriate subclass based on user input\n",
    "if user_club == \"FC Cirok\":\n",
    "    fan_page = FC_Cirok()\n",
    "elif user_club == \"Madiba FC\":\n",
    "    fan_page = Madiba_FC()\n",
    "elif user_club == \"Blue Jay FC\":\n",
    "    fan_page = Blue_Jay_FC()\n",
    "elif user_club == \"TSG Walker\":\n",
    "    fan_page = TSG_Walker()\n",
    "else:\n",
    "    print(\"Invalid club name\")\n",
    "    exit()\n",
    "\n",
    "# Invoke the Fan_Page method of the instantiated subclass\n",
    "fan_page.Fan_Page()"
   ]
  },
  {
   "cell_type": "code",
   "execution_count": null,
   "id": "406e969a",
   "metadata": {},
   "outputs": [],
   "source": []
  }
 ],
 "metadata": {
  "kernelspec": {
   "display_name": "Python 3 (ipykernel)",
   "language": "python",
   "name": "python3"
  },
  "language_info": {
   "codemirror_mode": {
    "name": "ipython",
    "version": 3
   },
   "file_extension": ".py",
   "mimetype": "text/x-python",
   "name": "python",
   "nbconvert_exporter": "python",
   "pygments_lexer": "ipython3",
   "version": "3.10.9"
  }
 },
 "nbformat": 4,
 "nbformat_minor": 5
}
