{
 "cells": [
  {
   "cell_type": "code",
   "execution_count": 1,
   "id": "2fd7f45c",
   "metadata": {},
   "outputs": [
    {
     "name": "stdout",
     "output_type": "stream",
     "text": [
      "Total Naira Value here: 5000\n",
      "Total Naira Value here: 2000\n"
     ]
    }
   ],
   "source": [
    "from abc import ABC, abstractmethod\n",
    "\n",
    "class Bank(ABC):\n",
    "    def branch(self, Naira):\n",
    "        print(\"Fees submitted:\", Naira)\n",
    "   \n",
    "    @abstractmethod\n",
    "    def Bank(self, Naira):\n",
    "        pass\n",
    "    \n",
    "class Private(Bank):\n",
    "    def Bank(self, Naira):\n",
    "        print(\"Total Naira Value here:\", Naira)\n",
    "        \n",
    "class Public(Bank):\n",
    "    def Bank(self, Naira):\n",
    "        print(\"Total Naira Value here:\", Naira)\n",
    "\n",
    "Private().Bank(5000)\n",
    "Public().Bank(2000)\n",
    "\n",
    "a = Public()\n",
    "#a.branch(3500)"
   ]
  },
  {
   "cell_type": "code",
   "execution_count": null,
   "id": "051770c1",
   "metadata": {},
   "outputs": [],
   "source": []
  }
 ],
 "metadata": {
  "kernelspec": {
   "display_name": "Python 3 (ipykernel)",
   "language": "python",
   "name": "python3"
  },
  "language_info": {
   "codemirror_mode": {
    "name": "ipython",
    "version": 3
   },
   "file_extension": ".py",
   "mimetype": "text/x-python",
   "name": "python",
   "nbconvert_exporter": "python",
   "pygments_lexer": "ipython3",
   "version": "3.10.9"
  }
 },
 "nbformat": 4,
 "nbformat_minor": 5
}
