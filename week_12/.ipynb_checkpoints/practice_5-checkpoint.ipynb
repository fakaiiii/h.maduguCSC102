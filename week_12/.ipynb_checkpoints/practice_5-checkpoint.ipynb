{
 "cells": [
  {
   "cell_type": "code",
   "execution_count": 1,
   "id": "a55f13b6",
   "metadata": {},
   "outputs": [
    {
     "name": "stdout",
     "output_type": "stream",
     "text": [
      "Abstract Base Class\n",
      "Subclass\n"
     ]
    }
   ],
   "source": [
    "from abc import ABC, abstractmethod\n",
    "\n",
    "class R(ABC):\n",
    "    \n",
    "    def rk(self):\n",
    "        print(\"Abstract Base Class\")\n",
    "\n",
    "class K(R):\n",
    "    def rk(self):\n",
    "        super().rk()\n",
    "        print(\"Subclass\")\n",
    "\n",
    "# Object instantiation\n",
    "r = K()\n",
    "r.rk()"
   ]
  },
  {
   "cell_type": "code",
   "execution_count": null,
   "id": "cdef6cc6",
   "metadata": {},
   "outputs": [],
   "source": []
  }
 ],
 "metadata": {
  "kernelspec": {
   "display_name": "Python 3 (ipykernel)",
   "language": "python",
   "name": "python3"
  },
  "language_info": {
   "codemirror_mode": {
    "name": "ipython",
    "version": 3
   },
   "file_extension": ".py",
   "mimetype": "text/x-python",
   "name": "python",
   "nbconvert_exporter": "python",
   "pygments_lexer": "ipython3",
   "version": "3.10.9"
  }
 },
 "nbformat": 4,
 "nbformat_minor": 5
}
