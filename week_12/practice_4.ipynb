{
 "cells": [
  {
   "cell_type": "code",
   "execution_count": 1,
   "id": "c7f35afe",
   "metadata": {},
   "outputs": [
    {
     "name": "stdout",
     "output_type": "stream",
     "text": [
      "What animal species are you?: Human\n",
      "\n",
      "You are a Human. You can walk and run\n"
     ]
    }
   ],
   "source": [
    "from abc import ABC, abstractmethod\n",
    "\n",
    "class Animal(ABC):\n",
    "\n",
    "    @abstractmethod\n",
    "    def move(self):\n",
    "        pass\n",
    "\n",
    "class Human(Animal):\n",
    "    \n",
    "    def move(self):\n",
    "        print(\"\\nYou are a Human. You can walk and run\")\n",
    "\n",
    "class Snake(Animal):\n",
    "    \n",
    "    def move(self):\n",
    "        print(\"\\nYou are a Snake. You can crawl\")\n",
    "\n",
    "class Dog(Animal):\n",
    "\n",
    "    def move(self):\n",
    "        print(\"\\nYou are a Dog. You can bark\")\n",
    "\n",
    "class Lion(Animal):\n",
    "    \n",
    "    def move(self):\n",
    "        print(\"\\nYou are a Lion. You can roar\")\n",
    "\n",
    "# Object Instantiation\n",
    "animal = input(\"What animal species are you?: \")\n",
    "\n",
    "if animal == \"Human\":\n",
    "    H = Human()\n",
    "    H.move()\n",
    "elif animal == \"Snake\":\n",
    "    S = Snake()\n",
    "    S.move()\n",
    "elif animal == \"Dog\":\n",
    "    D = Dog()\n",
    "    D.move()\n",
    "elif animal == \"Lion\":\n",
    "    L = Lion()\n",
    "    L.move()\n",
    "else:\n",
    "    print(\"Invalid animal species\")"
   ]
  },
  {
   "cell_type": "code",
   "execution_count": null,
   "id": "2a0bbb79",
   "metadata": {},
   "outputs": [],
   "source": []
  }
 ],
 "metadata": {
  "kernelspec": {
   "display_name": "Python 3 (ipykernel)",
   "language": "python",
   "name": "python3"
  },
  "language_info": {
   "codemirror_mode": {
    "name": "ipython",
    "version": 3
   },
   "file_extension": ".py",
   "mimetype": "text/x-python",
   "name": "python",
   "nbconvert_exporter": "python",
   "pygments_lexer": "ipython3",
   "version": "3.10.9"
  }
 },
 "nbformat": 4,
 "nbformat_minor": 5
}
