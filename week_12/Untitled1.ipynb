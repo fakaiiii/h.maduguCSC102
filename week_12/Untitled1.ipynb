{
 "cells": [
  {
   "cell_type": "code",
   "execution_count": 2,
   "id": "cf1ba276",
   "metadata": {},
   "outputs": [
    {
     "name": "stdout",
     "output_type": "stream",
     "text": [
      "Volume of a rectangle: 144\n",
      "Volume of a sphere: 2089.9840000000004\n",
      "Volume of a cube: 125\n",
      "Volume of a triangle: 10.0\n"
     ]
    }
   ],
   "source": [
    "from abc import ABC\n",
    "\n",
    "class Geometric(ABC):\n",
    "    \n",
    "    def volume(self):\n",
    "        # abstract method\n",
    "        pass\n",
    "    \n",
    "class Rect(Geometric):\n",
    "    length = 4\n",
    "    width = 6\n",
    "    height = 6\n",
    "    \n",
    "    def volume(self):\n",
    "        return self.length * self.width * self.height\n",
    "    \n",
    "class Sphere(Geometric):\n",
    "    radius = 8\n",
    "    \n",
    "    def volume(self):\n",
    "        return 1.3 * 3.14 * self.radius * self.radius * self.radius\n",
    "    \n",
    "class Cube(Geometric):\n",
    "    edge = 5\n",
    "    \n",
    "    def volume(self):\n",
    "        return self.edge * self.edge * self.edge\n",
    "    \n",
    "class Triangle3D(Geometric):\n",
    "    length = 5\n",
    "    width = 4\n",
    "    \n",
    "    def volume(self):\n",
    "        return 0.5 * self.length * self.width\n",
    "    \n",
    "rr = Rect()\n",
    "ss = Sphere()\n",
    "cc = Cube()\n",
    "tt = Triangle3D()\n",
    "print(\"Volume of a rectangle:\", rr.volume())\n",
    "print(\"Volume of a sphere:\", ss.volume())\n",
    "print(\"Volume of a cube:\", cc.volume())\n",
    "print(\"Volume of a triangle:\", tt.volume())"
   ]
  },
  {
   "cell_type": "code",
   "execution_count": null,
   "id": "901b1e99",
   "metadata": {},
   "outputs": [],
   "source": []
  }
 ],
 "metadata": {
  "kernelspec": {
   "display_name": "Python 3 (ipykernel)",
   "language": "python",
   "name": "python3"
  },
  "language_info": {
   "codemirror_mode": {
    "name": "ipython",
    "version": 3
   },
   "file_extension": ".py",
   "mimetype": "text/x-python",
   "name": "python",
   "nbconvert_exporter": "python",
   "pygments_lexer": "ipython3",
   "version": "3.10.9"
  }
 },
 "nbformat": 4,
 "nbformat_minor": 5
}
