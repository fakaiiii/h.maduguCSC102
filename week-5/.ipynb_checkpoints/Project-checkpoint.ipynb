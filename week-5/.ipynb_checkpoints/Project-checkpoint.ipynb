{
 "cells": [
  {
   "cell_type": "code",
   "execution_count": 1,
   "id": "3f85cecb",
   "metadata": {},
   "outputs": [
    {
     "name": "stdout",
     "output_type": "stream",
     "text": [
      "| Samantha  || 17 || 5.5 || 80\n",
      "| Charles   || 19 || 5.7 || 74\n",
      "| Jada      || 16 || 6.0 || 85\n",
      "| Jude      || 16 || 5.9 || 87\n",
      "| Jane      || 17 || 5.4 || 70\n",
      "| James     || 18 || 5.8 || 75\n",
      "| Claire    || 18 || 5.9 || 60\n",
      "| Kelvin    || 17 || 6.1 || 68\n",
      "| Elizabeth || 16 || 5.6 || 76\n",
      "| Biodun    || 20 || 5.9 || 66\n",
      "| Mary      || 18 || 5.5 || 66\n",
      "| Wale      || 19 || 5.5 || 78\n",
      "| Susan     || 17 || 6.1 || 87\n",
      "| Kunle     || 16 || 6.1 || 87\n",
      "| Waje      || 20 || 6.0 || 95\n",
      "| Matthew   || 18 || 5.4 || 98\n",
      "| Taibat    || 19 || 5.7 || 50\n",
      "| Tom       || 17 || 5.8 || 54\n",
      "| Lilian    || 17 || 5.5 || 49\n",
      "| Kayode    || 19 || 5.7 || 60\n"
     ]
    }
   ],
   "source": [
    "girls = ['Samantha ', 'Jada     ','Jane     ', 'Claire   ', 'Elizabeth', 'Mary     ', 'Susan    ', 'Waje     ', 'Taibat   ', 'Lilian   ']\n",
    "girls_age = [17, 16, 17, 18, 16, 18, 17, 20, 19, 17]\n",
    "girls_height = [5.5, 6.0, 5.4, 5.9, 5.6, 5.5, 6.1, 6.0, 5.7, 5.5]\n",
    "girls_score = [80, 85, 70, 60, 76, 66, 87, 95, 50, 49]\n",
    "boys = ['Charles  ', 'Jude     ', 'James    ', 'Kelvin   ', 'Biodun   ', 'Wale     ',  'Kunle    ', 'Matthew  ', 'Tom      ', 'Kayode   ']\n",
    "boys_age = [19, 16, 18, 17, 20, 19, 16, 18, 17, 19]\n",
    "boys_height = [5.7, 5.9, 5.8, 6.1, 5.9, 5.5, 6.1, 5.4, 5.8, 5.7]\n",
    "boys_score = [74, 87, 75 ,68 , 66, 78, 87, 98, 54, 60]\n",
    "length = len(girls)\n",
    "for i in range (length):\n",
    "    \n",
    "    print(\"|\",girls[i],\"||\",girls_age[i],\"||\",girls_height[i],\"||\",girls_score[i])\n",
    "\n",
    "    print(\"|\",boys[i],\"||\",boys_age[i],\"||\",boys_height[i],\"||\",boys_score[i])  \n",
    "    "
   ]
  },
  {
   "cell_type": "code",
   "execution_count": 18,
   "id": "c71cff23",
   "metadata": {},
   "outputs": [
    {
     "name": "stdout",
     "output_type": "stream",
     "text": [
      "Age: 37\n",
      "Years of Experience: 12\n",
      "Annual Tax Revenue is N1,500,000\n"
     ]
    }
   ],
   "source": [
    "age = int(input(\"Age: \"))\n",
    "experience = int(input(\"Years of Experience: \"))\n",
    "\n",
    "if age >= 55 and experience > 25:\n",
    "    print(\"Annual Tax  Revenue is N5,600,000\")\n",
    "    \n",
    "elif experience > 20 and age >= 40:\n",
    "    print(\"Annual Tax Revenue is N4,480,000\")\n",
    "    \n",
    "elif experience > 10 and age >= 35:\n",
    "    print(\"Annual Tax Revenue is N1,500,000\")\n",
    "\n",
    "elif experience < 10 and age < 35:\n",
    "    print(\"Annual Tax Revenue is N550,000\")\n",
    "\n",
    "else:\n",
    "    print(\"Invalid\")"
   ]
  },
  {
   "cell_type": "code",
   "execution_count": null,
   "id": "2ad479da",
   "metadata": {},
   "outputs": [],
   "source": []
  }
 ],
 "metadata": {
  "kernelspec": {
   "display_name": "Python 3 (ipykernel)",
   "language": "python",
   "name": "python3"
  },
  "language_info": {
   "codemirror_mode": {
    "name": "ipython",
    "version": 3
   },
   "file_extension": ".py",
   "mimetype": "text/x-python",
   "name": "python",
   "nbconvert_exporter": "python",
   "pygments_lexer": "ipython3",
   "version": "3.10.9"
  }
 },
 "nbformat": 4,
 "nbformat_minor": 5
}
